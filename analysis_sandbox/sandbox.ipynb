{
 "cells": [
  {
   "cell_type": "markdown",
   "id": "12cd6194",
   "metadata": {},
   "source": [
    "### Preparation"
   ]
  },
  {
   "cell_type": "code",
   "execution_count": 175,
   "id": "3a19a11a",
   "metadata": {},
   "outputs": [],
   "source": [
    "# Configure root ..\n",
    "import os\n",
    "import sys\n",
    "os.chdir(\"..\")  "
   ]
  },
  {
   "cell_type": "code",
   "execution_count": 176,
   "id": "a5a3984e",
   "metadata": {},
   "outputs": [],
   "source": [
    "# Libraries & Packages\n",
    "from src import config\n",
    "import gspread\n",
    "import pandas as pd\n",
    "import numpy as np\n",
    "\n",
    "pd.set_option('display.max_columns', None) "
   ]
  },
  {
   "cell_type": "markdown",
   "id": "afa07664",
   "metadata": {},
   "source": [
    "## Import & Adjustments"
   ]
  },
  {
   "cell_type": "code",
   "execution_count": 177,
   "id": "be080e5c",
   "metadata": {},
   "outputs": [],
   "source": [
    "# Import Excel files ~> TO log & Daily log\n",
    "googleDrive_client = gspread.authorize(config.DRIVE_CREDENTIALS)\n",
    "config.DRIVE_TP_LOG_FILENAMES\n",
    "\n",
    "# Daily Log\n",
    "daily_log_file = googleDrive_client.open(config.DRIVE_DAILY_LOG_FILENAMES[0])\n",
    "daily_log_sheet = daily_log_file.get_worksheet(0)\n",
    "daily_log_data = daily_log_sheet.get_all_values()\n",
    "daily_log_df = pd.DataFrame(daily_log_data[1:], columns=daily_log_data[0]) \n",
    "\n",
    "# TP Log\n",
    "tp_log_file = googleDrive_client.open(config.DRIVE_TP_LOG_FILENAMES[0])\n",
    "tp_log_sheet = tp_log_file.get_worksheet(0)\n",
    "tp_log_data = tp_log_sheet.get_all_values()\n",
    "tp_log_df = pd.DataFrame(tp_log_data[1:], columns=tp_log_data[0]) "
   ]
  },
  {
   "cell_type": "code",
   "execution_count": 178,
   "id": "fbdde38d",
   "metadata": {},
   "outputs": [],
   "source": [
    "# Small adjustments\n",
    "\n",
    "# Convert to numeric (all are object ...)\n",
    "def safe_convert(x):\n",
    "    if x == \"\":\n",
    "        return np.nan  # Treat empty strings as NaN\n",
    "    try:\n",
    "        return pd.to_numeric(x)\n",
    "    except (ValueError, TypeError):\n",
    "        return str(x)\n",
    "    \n",
    "for data in [daily_log_df, tp_log_df]:\n",
    "    for col in data.columns:\n",
    "        try:\n",
    "            data[col] = data[col].apply(safe_convert)\n",
    "        except ValueError:\n",
    "            pass \n",
    "\n",
    "# Date\n",
    "daily_log_df[\"Date\"] = pd.to_datetime(daily_log_df[[\"Year\", \"Month\", \"Day\"]]).dt.date\n",
    "tp_log_df[\"Date\"] = pd.to_datetime(tp_log_df[[\"Year\", \"Month\", \"Day\"]]).dt.date\n",
    "\n",
    "# Sort by date\n",
    "daily_log_df = daily_log_df.sort_values(by=\"Date\").reset_index(drop=True)\n",
    "tp_log_df = tp_log_df.sort_values(by=\"Date\").reset_index(drop=True)\n",
    "\n",
    "# Some conversions\n",
    "tp_log_df[\"Activity type\"] = tp_log_df[\"Activity type\"].replace({\"Cycling\": \"Road Biking\"}) #  Convert Cycling to Road Biking in Activity type\n",
    "tp_log_df[\"Activity type\"] = tp_log_df[\"Activity type\"].str.replace(\"Cycling\", \"Biking\") # cycling to biking in Activity type"
   ]
  },
  {
   "cell_type": "code",
   "execution_count": 179,
   "id": "4cb8c06b",
   "metadata": {},
   "outputs": [
    {
     "name": "stdout",
     "output_type": "stream",
     "text": [
      "Daily Log:\n",
      "-------------------------------------\n",
      "Date range: 2024-09-13 to 2025-08-14\n",
      "Duplicated rows = 0\n",
      "Missing dates = []\n",
      "\n",
      "Training Log:\n",
      "-------------------------------------\n",
      "Date range: 2024-09-13 to 2025-08-14\n",
      "Duplicated rows = 0\n",
      "Missing dates = []\n"
     ]
    }
   ],
   "source": [
    "# Data check\n",
    "\n",
    "print(\"Daily Log:\")\n",
    "print(\"-------------------------------------\")\n",
    "print(\"Date range: {} to {}\".format(daily_log_df[\"Date\"].min(), daily_log_df[\"Date\"].max()))\n",
    "print(\"Duplicated rows = {}\".format(daily_log_df[daily_log_df.duplicated(keep=False)].shape[0]))\n",
    "print(\"Missing dates = {}\".format([d for d in pd.date_range(start=daily_log_df[\"Date\"].min(), end=daily_log_df[\"Date\"].max()).date if d not in daily_log_df[\"Date\"].values]))\n",
    "\n",
    "\n",
    "print(\"\\nTraining Log:\")\n",
    "print(\"-------------------------------------\")\n",
    "print(\"Date range: {} to {}\".format(tp_log_df[\"Date\"].min(), tp_log_df[\"Date\"].max()))\n",
    "print(\"Duplicated rows = {}\".format(tp_log_df[tp_log_df.duplicated(keep=False)].shape[0]))\n",
    "print(\"Missing dates = {}\".format([d for d in pd.date_range(start=tp_log_df[\"Date\"].min(), end=tp_log_df[\"Date\"].max()).date if d not in tp_log_df[\"Date\"].values]))"
   ]
  },
  {
   "cell_type": "markdown",
   "id": "02e6b3f2",
   "metadata": {},
   "source": [
    "## Work on data"
   ]
  },
  {
   "cell_type": "code",
   "execution_count": 189,
   "id": "639bb8b3",
   "metadata": {},
   "outputs": [],
   "source": [
    "# Work!\n",
    "\n",
    "# Normalized HRV values (-inf, inf) ~> Upper bound = 1, Lower bound = 0 ~> Lower = better\n",
    "daily_log_df[\"HRV normalized\"] = (daily_log_df[\"HRV\"] - daily_log_df[\"HRV baseline lower\"]) / (daily_log_df[\"HRV baseline upper\"] - daily_log_df[\"HRV baseline lower\"])"
   ]
  },
  {
   "cell_type": "markdown",
   "id": "88a60eda",
   "metadata": {},
   "source": [
    "## Quick Analysis"
   ]
  },
  {
   "cell_type": "code",
   "execution_count": 180,
   "id": "813ad8a8",
   "metadata": {},
   "outputs": [
    {
     "name": "stdout",
     "output_type": "stream",
     "text": [
      "Different activities and their counts:\n",
      "-------------------------------------\n",
      "Trail Running ~> 268.09 hours, (144 act.)\n",
      "Road Biking ~> 84.39 hours, (35 act.)\n",
      "Running ~> 78.25 hours, (76 act.)\n",
      "Indoor Biking ~> 71.04 hours, (51 act.)\n",
      "Hiking ~> 15.35 hours, (6 act.)\n",
      "Mountain Biking ~> 12.67 hours, (7 act.)\n",
      "Lap Swimming ~> 0.21 hours, (1 act.)\n"
     ]
    }
   ],
   "source": [
    "# Quick analyis ~ Training log\n",
    "\n",
    "print(\"Different activities and their counts:\")\n",
    "print(\"-------------------------------------\")\n",
    "activities_count_time = (\n",
    "    tp_log_df\n",
    "    .groupby(\"Activity type\")[[\"Duration [h]\"]]\n",
    "    .agg(\n",
    "        count=(\"Duration [h]\", \"count\"),\n",
    "        total_duration=(\"Duration [h]\", \"sum\")\n",
    "        )\n",
    "    .reset_index()\n",
    "    .sort_values(by=\"total_duration\", ascending=False)\n",
    "    )\n",
    "\n",
    "for _, row in activities_count_time.iterrows():\n",
    "    print(\"{} ~> {:.2f} hours, ({} act.)\".format(row[\"Activity type\"], row[\"total_duration\"], row[\"count\"]))"
   ]
  },
  {
   "cell_type": "code",
   "execution_count": 190,
   "id": "ce88ff0d",
   "metadata": {},
   "outputs": [
    {
     "name": "stdout",
     "output_type": "stream",
     "text": [
      "Current performance values:\n",
      "-------------------------------------\n",
      "VO2max ~> 60.70 ml/kg/min\n",
      "Hill score ~> 93\n",
      "Endurance score ~> 8631\n",
      "Normalized HRV ~> 0.19\n"
     ]
    }
   ],
   "source": [
    "# Quick analyis ~ Daily log\n",
    "print(\"Current performance values:\")\n",
    "print(\"-------------------------------------\")\n",
    "print(\"VO2max ~> {:.2f} ml/kg/min\".format(daily_log_df[\"vo2Max\"].iloc[-1]))\n",
    "print(\"Hill score ~> {}\".format(daily_log_df[\"Hill score\"].iloc[-1]))\n",
    "print(\"Endurance score ~> {}\".format(daily_log_df[\"Endurance score\"].iloc[-1]))\n",
    "print(\"Normalized HRV ~> {:.2f}\".format(daily_log_df[\"HRV normalized\"].iloc[-1]))"
   ]
  }
 ],
 "metadata": {
  "kernelspec": {
   "display_name": "Sandbox",
   "language": "python",
   "name": "python3"
  },
  "language_info": {
   "codemirror_mode": {
    "name": "ipython",
    "version": 3
   },
   "file_extension": ".py",
   "mimetype": "text/x-python",
   "name": "python",
   "nbconvert_exporter": "python",
   "pygments_lexer": "ipython3",
   "version": "3.13.1"
  }
 },
 "nbformat": 4,
 "nbformat_minor": 5
}
