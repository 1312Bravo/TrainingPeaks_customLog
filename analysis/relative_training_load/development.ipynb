{
 "cells": [
  {
   "cell_type": "markdown",
   "id": "3cc972a2",
   "metadata": {},
   "source": [
    "# Libraries & Helpers"
   ]
  },
  {
   "cell_type": "code",
   "execution_count": 6,
   "id": "83213e15",
   "metadata": {},
   "outputs": [],
   "source": [
    "# Libraries\n",
    "import pandas as pd\n",
    "import numpy as np\n",
    "import gspread\n",
    "import datetime\n",
    "import matplotlib.pyplot as plt\n",
    "import seaborn as sns\n",
    "\n",
    "import os\n",
    "os.chdir(\"..\")  \n",
    "from src import config\n",
    "from src import help_functions as hf\n",
    "\n",
    "# Configs\n",
    "pd.set_option(\"display.max_columns\", None)\n",
    "pd.set_option(\"display.max_colwidth\", None)"
   ]
  },
  {
   "cell_type": "markdown",
   "id": "f36c58f4",
   "metadata": {},
   "source": [
    "# Data"
   ]
  },
  {
   "cell_type": "code",
   "execution_count": 7,
   "id": "4887de81",
   "metadata": {},
   "outputs": [
    {
     "name": "stdout",
     "output_type": "stream",
     "text": [
      "Training data about:\n",
      "-----------------------------------------------------\n",
      "Todays date: 2025-08-28\n",
      "Date range: 2024-09-13 to 2025-08-27\n",
      "Duplicated rows = 0\n",
      "Missing dates = []\n",
      "\n",
      "Different activities and their counts:\n",
      "-------------------------------------\n",
      "Trail Running ~> 283.77 hours (153 act.)\n",
      "Road Biking ~> 80.82 hours (33 act.)\n",
      "Running ~> 78.25 hours (76 act.)\n",
      "Indoor Biking ~> 71.04 hours (51 act.)\n",
      "Mountain Biking ~> 16.99 hours (9 act.)\n",
      "Hiking ~> 15.35 hours (6 act.)\n",
      "Road biking ~> 3.74 hours (2 act.)\n",
      "Lap Swimming ~> 0.21 hours (1 act.)\n"
     ]
    }
   ],
   "source": [
    "# Import and quick check Training data \n",
    "googleDrive_client = gspread.authorize(config.DRIVE_CREDENTIALS)\n",
    "training_data, _ = hf.import_google_sheet(googleDrive_client=googleDrive_client, filename=config.DRIVE_TP_LOG_FILENAMES[0], sheet_index=0)\n",
    "\n",
    "# \"Clean\" data\n",
    "for col in training_data.columns:\n",
    "    try:\n",
    "        training_data[col] = training_data[col].apply(hf.safe_convert_to_numeric)\n",
    "    except ValueError:\n",
    "        pass \n",
    "\n",
    "# Date & Datetime\n",
    "training_data[\"Date\"] = pd.to_datetime(training_data[[\"Year\", \"Month\", \"Day\"]]).dt.date\n",
    "training_data[\"Datetime\"] = pd.to_datetime(training_data[[\"Year\", \"Month\", \"Day\"]])\n",
    "training_data = training_data.sort_values(by=\"Date\").reset_index(drop=True)\n",
    "\n",
    "# About\n",
    "print(\"Training data about:\")\n",
    "print(\"-----------------------------------------------------\")\n",
    "print(\"Todays date: {}\".format(datetime.datetime.today().date()))\n",
    "print(\"Date range: {} to {}\".format(training_data[\"Date\"].min(), training_data[\"Date\"].max()))\n",
    "print(\"Duplicated rows = {}\".format(training_data[training_data.duplicated(keep=False)].shape[0]))\n",
    "print(\"Missing dates = {}\".format([d for d in pd.date_range(start=training_data[\"Date\"].min(), end=training_data[\"Date\"].max()).date if d not in training_data[\"Date\"].values]))\n",
    "\n",
    "print(\"\\nDifferent activities and their counts:\")\n",
    "print(\"-------------------------------------\")\n",
    "activities_count_time = (\n",
    "    training_data\n",
    "    .groupby(\"Activity type\")[[\"Duration [h]\"]]\n",
    "    .agg(\n",
    "        count=(\"Duration [h]\", \"count\"),\n",
    "        total_duration=(\"Duration [h]\", \"sum\")\n",
    "        )\n",
    "    .reset_index()\n",
    "    .sort_values(by=\"total_duration\", ascending=False)\n",
    "    )\n",
    "\n",
    "for _, row in activities_count_time.iterrows():\n",
    "    print(\"{} ~> {:.2f} hours ({} act.)\".format(row[\"Activity type\"], row[\"total_duration\"], row[\"count\"]))"
   ]
  },
  {
   "cell_type": "code",
   "execution_count": 8,
   "id": "dc29ef2d",
   "metadata": {},
   "outputs": [
    {
     "name": "stdout",
     "output_type": "stream",
     "text": [
      "Daily data about:\n",
      "-----------------------------------------------------\n",
      "Todays date: 2025-08-28\n",
      "Date range: 2024-04-15 to 2025-08-27\n",
      "Duplicated rows = 0\n",
      "Missing dates = []\n"
     ]
    }
   ],
   "source": [
    "# Import and quick check Daily data\n",
    "googleDrive_client = gspread.authorize(config.DRIVE_CREDENTIALS)\n",
    "daily_data, _ = hf.import_google_sheet(googleDrive_client=googleDrive_client, filename=config.DRIVE_TP_LOG_FILENAMES[1], sheet_index=0)\n",
    "\n",
    "# \"Clean\" data\n",
    "for col in daily_data.columns:\n",
    "    try:\n",
    "        daily_data[col] = daily_data[col].apply(hf.safe_convert_to_numeric)\n",
    "    except ValueError:\n",
    "        pass \n",
    "\n",
    "# Date & Datetime\n",
    "daily_data[\"Date\"] = pd.to_datetime(daily_data[[\"Year\", \"Month\", \"Day\"]]).dt.date\n",
    "daily_data[\"Datetime\"] = pd.to_datetime(daily_data[[\"Year\", \"Month\", \"Day\"]])\n",
    "daily_data = daily_data.sort_values(by=\"Date\").reset_index(drop=True)\n",
    "\n",
    "# About\n",
    "print(\"Daily data about:\")\n",
    "print(\"-----------------------------------------------------\")\n",
    "print(\"Todays date: {}\".format(datetime.datetime.today().date()))\n",
    "print(\"Date range: {} to {}\".format(daily_data[\"Date\"].min(), daily_data[\"Date\"].max()))\n",
    "print(\"Duplicated rows = {}\".format(daily_data[daily_data.duplicated(keep=False)].shape[0]))\n",
    "print(\"Missing dates = {}\".format([d for d in pd.date_range(start=daily_data[\"Date\"].min(), end=daily_data[\"Date\"].max()).date if d not in daily_data[\"Date\"].values]))"
   ]
  },
  {
   "cell_type": "markdown",
   "id": "259581e4",
   "metadata": {},
   "source": [
    "# Development\n",
    "\n",
    "We have two goals:\n",
    "\n",
    "1. **Recent Adjusted Relative Training Load (ARTL)**\n",
    "\n",
    "Define a simple metric that shows where we are with our current training compared to what we've been doing in the recent past. The purpose is to see if we should reduce out trainings load — so that we don't overreach or risk injury, or increase increase it to match what what our body has been adapted to in recent past. Or just simple define where in the training cycle we are if we take larger picture into account. *How are we positined relative to recent training load overall?*\n",
    "\n",
    "2. **Recent Load Relative Percentile (RLRP)**\n",
    "\n",
    "Quantify how hard today's training was compared to what we are used to. In other words, show where this session fall within the distribution of our recent sessions — is it an average day, a light day, or a clear spike? This also helps guide tomorrow’s (or few next days) training choice, since we know whether today was relatively light, normal, or heavy.\n",
    "\n",
    "Dataset:\n",
    "\n",
    "- All activities, regardless if it was real training or not (including hiking, swimming, easy cycling etc.).\n",
    "- Lets assume we only have one \"real\" workout per day and take total (sum) daily training load (one sample is one day). \n",
    "\n",
    "Let $TL_i$ be the training load of the day i."
   ]
  },
  {
   "cell_type": "markdown",
   "id": "aa7f5f01",
   "metadata": {},
   "source": [
    "### Recent Adjusted Relative Training Load (ARTL)\n",
    "\n",
    "A history aware measure of current relative load. We have to balance:\n",
    "- Baseline (long term) adaptation \n",
    "    - What your body has been used to, and succesfully handed it, over a longer period and did, e.g., 3 months.\n",
    "    - Captures what your body is adapted to before the most recent training period.\n",
    "    - Reflects true adaptation, not recent acute changes.\n",
    "\n",
    "- Recent training pattern \n",
    "    - What our last weeks/days looked like, weighted by recency, so that very recent sessions count more (what we did e.g. 3 weeks before, our body has probably handled and adapted to).\n",
    "    - Captures what your body has been exposed to in the most recent period.\n",
    "    - Reflect acute training load.\n",
    "\n",
    "Adjusted Relative Training Load (ARTL) is defined as the ratio between recent weighted training load and baseline training load \n",
    "-  $ARTL = \\frac{Recent\\ Weighted\\ Load}{Baseline\\ Load}$\n",
    "- ARTL > 1 -> recent 3-week load is above what you were adapted to in the prior 3 months - \"going out of bodys comfort zone, risky\"\n",
    "- ARTL < 1 -> recent 3-week load is below what you were adapted to in the prior 3 months - \"safe to push\"\n",
    "\n",
    "Where:"
   ]
  },
  {
   "cell_type": "markdown",
   "id": "8fb38ef6",
   "metadata": {},
   "source": [
    "Define historical windows:\n",
    "- Baseline window:  Lets take last 90 days (3 months) excluding last 21 days (3 weeks).\n",
    "- Recent weighted window: Lets take last 21 days (3 weeks)."
   ]
  }
 ],
 "metadata": {
  "language_info": {
   "name": "python"
  }
 },
 "nbformat": 4,
 "nbformat_minor": 5
}
